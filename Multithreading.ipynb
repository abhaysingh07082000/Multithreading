{
 "cells": [
  {
   "cell_type": "code",
   "execution_count": 1,
   "id": "65e5bc35-56c2-4357-a3ed-23880f41b613",
   "metadata": {},
   "outputs": [],
   "source": [
    "#Q1.what is multithreading in python? why is it used? Name the module used to handle threads in python"
   ]
  },
  {
   "cell_type": "markdown",
   "id": "be379213-f579-413a-a864-14ed02c94128",
   "metadata": {},
   "source": [
    "It refers to the concurrent execution of two or more threads (smaller units of a process) within a single process.\n",
    "which share the same memory space, which makes it easier to share data between them compared to multiprocessing.\n",
    "\n",
    "Threads are a way to perform multiple tasks simultaneously within a single program. Each thread runs independently but shares the same\n",
    "process resources.\n"
   ]
  },
  {
   "cell_type": "markdown",
   "id": "19f7e4e4-5a12-4f56-b630-41368495a053",
   "metadata": {},
   "source": [
    "Why is Multithreading Used?\n",
    "\n",
    "Concurrency:\n",
    "Multithreading allows a program to perform multiple operations at once, making it appear to be running concurrently. \n",
    "This is especially useful in I/O-bound tasks where operations spend time waiting for external resources \n",
    "(e.g., file I/O,network communication).\n",
    "\n",
    "Responsiveness: \n",
    "In applications like GUI programs, multithreading helps keep the user interface responsive while performing background tasks.\n",
    "\n",
    "Resource Sharing: \n",
    "Threads within the same process can easily share data and resources, which can reduce overhead compared\n",
    "to inter-process communication in multiprocessing.\n",
    "\n",
    "Improved Performance: \n",
    "Although Python's Global Interpreter Lock (GIL) can limit true parallelism in CPU-bound tasks,\n",
    "multithreading can still be effective for I/O-bound tasks where the program spends a lot of time waiting."
   ]
  },
  {
   "cell_type": "markdown",
   "id": "2318a6c9-8acb-49f0-adcc-174183d87151",
   "metadata": {},
   "source": [
    "Global Interpreter Lock (GIL)\n",
    "Python's GIL allows only one thread to execute Python bytecode at a time, which can limit the effectiveness of \n",
    "multithreading for CPU-bound tasks. However, for I/O-bound tasks, threads can be quite useful as they can perform other\n",
    "operations while waiting for I/O operations to complete."
   ]
  },
  {
   "cell_type": "code",
   "execution_count": 2,
   "id": "3fe5a4dd-238c-4f2f-899f-55aa8efebf8e",
   "metadata": {},
   "outputs": [
    {
     "name": "stdout",
     "output_type": "stream",
     "text": [
      "0\n",
      "1\n",
      "2\n",
      "3\n",
      "4\n"
     ]
    }
   ],
   "source": [
    "# Module Used to Handle Threads in Python-\n",
    "# The module used to handle threads in Python is the threading module.\n",
    "\n",
    "# Key Functions and Classes in the threading Module-\n",
    "\n",
    "# 1.Thread Class: Used to create and manage threads.\n",
    "import threading\n",
    "\n",
    "def print_numbers():\n",
    "    for i in range(5):\n",
    "        print(i)\n",
    "\n",
    "thread = threading.Thread(target=print_numbers)\n",
    "thread.start()  \n",
    "thread.join()   \n"
   ]
  },
  {
   "cell_type": "code",
   "execution_count": 3,
   "id": "77a5f951-8f14-4670-9f71-045eb7849edc",
   "metadata": {},
   "outputs": [
    {
     "name": "stdout",
     "output_type": "stream",
     "text": [
      "Thread-safe operation\n",
      "Thread-safe operation\n"
     ]
    }
   ],
   "source": [
    "#Lock Class: Used to create a lock object for synchronizing access to shared resources between threads.\n",
    "import threading\n",
    "\n",
    "lock = threading.Lock()\n",
    "\n",
    "def thread_safe_function():\n",
    "    with lock:\n",
    "        # Critical section of code that should not be accessed by other threads\n",
    "        print(\"Thread-safe operation\")\n",
    "\n",
    "thread1 = threading.Thread(target=thread_safe_function)\n",
    "thread2 = threading.Thread(target=thread_safe_function)\n",
    "thread1.start()\n",
    "thread2.start()\n",
    "thread1.join()\n",
    "thread2.join()\n"
   ]
  },
  {
   "cell_type": "code",
   "execution_count": 4,
   "id": "f815fcd4-e7f7-4ed3-bee2-769b6cbd48a0",
   "metadata": {},
   "outputs": [
    {
     "name": "stdout",
     "output_type": "stream",
     "text": [
      "Waiting for event...\n",
      "Setting event...\n",
      "Event received!\n"
     ]
    }
   ],
   "source": [
    "#Event Class: Used for communication between threads. Threads can wait for an event to be set.\n",
    "\n",
    "import threading\n",
    "\n",
    "event = threading.Event()\n",
    "\n",
    "def wait_for_event():\n",
    "    print(\"Waiting for event...\")\n",
    "    event.wait()\n",
    "    print(\"Event received!\")\n",
    "\n",
    "def set_event():\n",
    "    print(\"Setting event...\")\n",
    "    event.set()\n",
    "\n",
    "thread1 = threading.Thread(target=wait_for_event)\n",
    "thread2 = threading.Thread(target=set_event)\n",
    "thread1.start()\n",
    "thread2.start()\n",
    "thread1.join()\n",
    "thread2.join()\n"
   ]
  },
  {
   "cell_type": "code",
   "execution_count": null,
   "id": "8a21c198-1585-47c7-9d3a-4da4552d36ff",
   "metadata": {},
   "outputs": [],
   "source": [
    "#Condition Class: Used to synchronize threads based on some condition.\n",
    "\n",
    "import threading\n",
    "\n",
    "condition = threading.Condition()\n",
    "shared_resource = []\n",
    "\n",
    "def producer():\n",
    "    with condition:\n",
    "        shared_resource.append('item')\n",
    "        condition.notify()  # Notify a waiting thread\n",
    "\n",
    "def consumer():\n",
    "    with condition:\n",
    "        condition.wait()  # Wait for the producer to notify\n",
    "        item = shared_resource.pop()\n",
    "        print(f\"Consumed: {item}\")\n",
    "\n",
    "thread1 = threading.Thread(target=producer)\n",
    "thread2 = threading.Thread(target=consumer)\n",
    "thread1.start()\n",
    "thread2.start()\n",
    "thread1.join()\n",
    "thread2.join()\n"
   ]
  },
  {
   "cell_type": "raw",
   "id": "f6802cc6-39f9-415e-98f1-6fb9683927a9",
   "metadata": {},
   "source": [
    "Q2- Why threading module used? Write the use of the following functions\n",
    "\n",
    "1.activeCount\n",
    "2.currentThread\n",
    "3.enumerate"
   ]
  },
  {
   "cell_type": "code",
   "execution_count": null,
   "id": "235dac6f-f1d0-47b2-88e5-d061663a3271",
   "metadata": {},
   "outputs": [],
   "source": [
    "# The threading module in provides a way to work with threads,this allow us for concurrent execution of code.\n",
    "\n",
    "# 1.activeCount()-This tell us that how many threads are currently active or running.It counts all threads that have been started but\n",
    "# not yet completed.\n",
    "import threading\n",
    "\n",
    "def thread_function():\n",
    "    pass\n",
    "\n",
    "threads = [threading.Thread(target=thread_function) for _ in range(5)]\n",
    "for thread in threads:\n",
    "    thread.start()\n",
    "\n",
    "print(threading.active_count())  # Outputs the number of active threads                                                                "
   ]
  },
  {
   "cell_type": "code",
   "execution_count": null,
   "id": "73e7c4ae-9ff5-404e-8b8a-011823e7b201",
   "metadata": {},
   "outputs": [],
   "source": [
    "# 2.currentThread()-Return the current Thread object, corresponding to the caller’s thread of control. If the caller’s thread of control was \n",
    "# not created through the threading module, a dummy thread object with limited functionality is returned.\n",
    "\n",
    "import threading\n",
    "\n",
    "def thread_function():\n",
    "    print(f\"Current thread: {threading.current_thread().name}\")\n",
    "\n",
    "thread = threading.Thread(target=thread_function)\n",
    "thread.start()"
   ]
  },
  {
   "cell_type": "code",
   "execution_count": null,
   "id": "10d012a5-3d26-4aea-9ca3-0f413ff1a617",
   "metadata": {},
   "outputs": [],
   "source": [
    "# 3.enumerate()-Return a list of all Thread objects currently active. The list includes daemonic threads and dummy thread objects created \n",
    "# by current_thread(). It excludes terminated threads and threads that have not yet been started. However, the main thread is always part of \n",
    "# the result, even when terminated.\n",
    "\n",
    "import threading\n",
    "\n",
    "def thread_function():\n",
    "    pass\n",
    "\n",
    "threads = [threading.Thread(target=thread_function) for _ in range(5)]\n",
    "for thread in threads:\n",
    "    thread.start()\n",
    "\n",
    "alive_threads = threading.enumerate()  # List of all currently alive threads\n",
    "for t in alive_threads:\n",
    "    print(t.name)"
   ]
  },
  {
   "cell_type": "raw",
   "id": "6763fff5-5723-45b1-8447-91d5bc7a0f7a",
   "metadata": {},
   "source": [
    "1. run()-It Defines the code that a thread executes.\n",
    "The run() method is the heart of a thread. It contains the specific instructions and operations the thread will carry out.\n",
    "\n",
    "We don't directly call run(). It's inherited from the Thread class and gets invoked automatically when the thread starts.\n",
    "We override this method in our thread class to define the custom behavior of the thread."
   ]
  },
  {
   "cell_type": "raw",
   "id": "e5d1890e-1486-415d-b0e8-777150199fe4",
   "metadata": {},
   "source": [
    "import threading\n",
    "\n",
    "class MyThread(threading.Thread):\n",
    "    def run(self):\n",
    "        for i in range(5):\n",
    "            print(f\"Thread {self.name} running ({i+1})\")\n",
    "\n",
    "thread1 = MyThread(name=\"Thread-1\")"
   ]
  },
  {
   "cell_type": "code",
   "execution_count": null,
   "id": "d19590a3-d3a8-4349-a504-07aee5d17e98",
   "metadata": {},
   "outputs": [],
   "source": [
    "thread1"
   ]
  },
  {
   "cell_type": "raw",
   "id": "70ea49e4-e16d-4ef2-9269-1ad59b033dca",
   "metadata": {},
   "source": [
    "2.start()-Starts the execution of a thread.\n",
    "\n",
    "Calling start() on a thread object instructs the operating system to create a new thread of execution and begin running the thread's run()\n",
    "method.\n",
    "\n",
    "We can only call start() once on a thread object. Multiple calls will raise an exception.\n",
    "Once We call start(), the thread becomes independent and runs concurrently with the main thread."
   ]
  },
  {
   "cell_type": "code",
   "execution_count": null,
   "id": "09d9ab8b-bd90-4788-a72f-91b9713d307f",
   "metadata": {},
   "outputs": [],
   "source": [
    "thread1.start()"
   ]
  },
  {
   "cell_type": "raw",
   "id": "79ace434-a157-4fb0-b0b0-d26880b96976",
   "metadata": {},
   "source": [
    "3. join([timeout])-It Waits for a thread to finish running.\n",
    "    \n",
    "The join() method blocks the calling thread until the specified thread (the target thread) finishes its execution\n",
    "or the optional timeout expires.\n",
    "\n",
    "\n",
    "We Use join() method to ensure certain code sections in the main thread execute only after specific threads have completed their tasks.\n",
    "The optional timeout argument specifies the maximum time (in seconds) to wait for the thread to finish. If not provided, join()\n",
    "waits indefinitely."
   ]
  },
  {
   "cell_type": "code",
   "execution_count": null,
   "id": "f93b3185-56ad-43ca-bb67-c103ab0682ed",
   "metadata": {},
   "outputs": [],
   "source": [
    "thread1.join()\n",
    "print(\"Thread-1 has finished\")"
   ]
  },
  {
   "cell_type": "code",
   "execution_count": null,
   "id": "6851b77b-4929-4e22-a45e-43af5460beab",
   "metadata": {},
   "outputs": [],
   "source": [
    "4. isAlive()- It Checks if a thread is currently running.\n",
    "    \n",
    "Returns True if the thread is still active (its run() method is executing), otherwise returns False.\n",
    "Use isAlive() to determine a thread's status or implement synchronization mechanisms."
   ]
  },
  {
   "cell_type": "code",
   "execution_count": null,
   "id": "5335793f-6d4e-49e0-9097-06eee1176fb8",
   "metadata": {},
   "outputs": [],
   "source": [
    "is_alive = thread1.isAlive()\n",
    "print(f\"Is Thread-1 still running? {is_alive}\")\n"
   ]
  },
  {
   "cell_type": "raw",
   "id": "36d10d21-d25b-4d14-b1d4-5c5cc37f095a",
   "metadata": {},
   "source": [
    "4.Write a python program to create two threads. Thread one must print the list of squares and thread\n",
    "two must print the list of cubes"
   ]
  },
  {
   "cell_type": "code",
   "execution_count": null,
   "id": "c4a6fd7c-4a24-4f55-9bf9-1a692fc34907",
   "metadata": {},
   "outputs": [],
   "source": [
    "import threading\n",
    "\n",
    "def square():\n",
    "    l=[1,2,3,4,5]\n",
    "    res=[x**2 for x in l]\n",
    "    return res\n",
    "\n",
    "def cubes():\n",
    "    ls=[1,2,3,4,5]\n",
    "    result=[x**3 for x in ls]\n",
    "    return result\n",
    "\n",
    "thread1=threading.Thread(target=square)\n",
    "thread2=threading.Thread(target=cubes)\n",
    "\n",
    "thread1.start()\n",
    "thread2.start()\n",
    "\n",
    "thread1.join()\n",
    "thread2.join()"
   ]
  },
  {
   "cell_type": "code",
   "execution_count": null,
   "id": "ebc542a3-225d-4688-80c4-c81cac4081c6",
   "metadata": {},
   "outputs": [],
   "source": [
    "square()"
   ]
  },
  {
   "cell_type": "code",
   "execution_count": null,
   "id": "ca006608-2a1c-408f-94d9-8ce999b38208",
   "metadata": {},
   "outputs": [],
   "source": [
    "cubes()"
   ]
  },
  {
   "cell_type": "raw",
   "id": "11eda010-9f3a-4815-aab9-c968544c8ff4",
   "metadata": {},
   "source": [
    "5. State advantages and disadvantages of multithreading"
   ]
  },
  {
   "cell_type": "markdown",
   "id": "355c2d61-2f2c-47a0-abd6-b675a4617db4",
   "metadata": {},
   "source": [
    "Advantages-\n",
    "\n",
    "1.Improved Application Responsiveness:\n",
    "Multithreading allows an application to remain responsive while performing tasks in the background. For example, a user \n",
    "interface can remain responsive while a background thread performs computations or downloads data.\n",
    "\n",
    "2.Better Resource Utilization:\n",
    "Threads can run on multiple CPU cores, which helps utilize the full potential of a multi-core processor, leading to better overall \n",
    "system performance.\n",
    "\n",
    "3.Parallelism:\n",
    "Multithreading enables parallel execution of tasks, which can lead to faster execution of programs that perform multiple \n",
    "operations concurrently.\n",
    "\n",
    "4.Simplified Program Structure:\n",
    "For certain applications, using threads can simplify the design by allowing tasks to be expressed as concurrent threads rather \n",
    "than complex state machines or event-driven callbacks.\n",
    "\n",
    "Disadvantages-\n",
    "\n",
    "1.Complexity-Writing and managing multithreaded code can be complex and error-prone. Issues such as race conditions, deadlocks, \n",
    "and thread synchronization need to be carefully handled.\n",
    "\n",
    "2.Overhead:\n",
    "Creating and managing threads involves overhead, including memory consumption and context switching between threads. \n",
    "Excessive use of threads can lead to inefficiency and reduced performance.\n",
    "\n",
    "3.Difficulty in Debugging:\n",
    "Multithreaded programs can be harder to debug due to the non-deterministic nature of thread execution. Bugs may be intermittent\n",
    "and difficult to reproduce consistently."
   ]
  },
  {
   "cell_type": "raw",
   "id": "156b8246-a666-4c45-bc46-c56907d2e7f2",
   "metadata": {},
   "source": [
    "6. Explain deadlocks and race conditions."
   ]
  },
  {
   "cell_type": "markdown",
   "id": "b2936e7a-4d39-4e29-ae3f-fef60e1cf0df",
   "metadata": {},
   "source": [
    "Deadlocks\n",
    "It is a situation in a multithreaded or multiprocessing environment where two or more threads are blocked forever, \n",
    "each waiting for the other to release resources or complete actions and as a result, none of the threads can proceed, \n",
    "and the system becomes hung.   \n",
    "\n",
    "Race Conditions\n",
    "A race condition occurs when multiple threads access shared data concurrently, and the outcome of the program depends on\n",
    "the unpredictable order in which the threads execute. This can lead to inconsistent results and errors."
   ]
  },
  {
   "cell_type": "code",
   "execution_count": null,
   "id": "5e129734-5606-48f8-99ff-0b6f85afc693",
   "metadata": {},
   "outputs": [],
   "source": []
  }
 ],
 "metadata": {
  "kernelspec": {
   "display_name": "Python 3 (ipykernel)",
   "language": "python",
   "name": "python3"
  },
  "language_info": {
   "codemirror_mode": {
    "name": "ipython",
    "version": 3
   },
   "file_extension": ".py",
   "mimetype": "text/x-python",
   "name": "python",
   "nbconvert_exporter": "python",
   "pygments_lexer": "ipython3",
   "version": "3.12.4"
  }
 },
 "nbformat": 4,
 "nbformat_minor": 5
}
